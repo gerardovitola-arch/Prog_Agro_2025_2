{
  "nbformat": 4,
  "nbformat_minor": 0,
  "metadata": {
    "colab": {
      "provenance": [],
      "authorship_tag": "ABX9TyPRj9SZCEQYlwq4HH0u/5t+",
      "include_colab_link": true
    },
    "kernelspec": {
      "name": "python3",
      "display_name": "Python 3"
    },
    "language_info": {
      "name": "python"
    }
  },
  "cells": [
    {
      "cell_type": "markdown",
      "metadata": {
        "id": "view-in-github",
        "colab_type": "text"
      },
      "source": [
        "<a href=\"https://colab.research.google.com/github/gerardovitola-arch/Prog_Agro_2025_2/blob/main/Semanas_2_y_3.ipynb\" target=\"_parent\"><img src=\"https://colab.research.google.com/assets/colab-badge.svg\" alt=\"Open In Colab\"/></a>"
      ]
    },
    {
      "cell_type": "code",
      "execution_count": null,
      "metadata": {
        "id": "wghxIOqtsowf"
      },
      "outputs": [],
      "source": []
    },
    {
      "cell_type": "markdown",
      "source": [
        "# Situación 1: Clasificador de pH del Suelo El pH del suelo\n",
        "\n",
        " es un factor crítico para la absorción de\n",
        "nutrientes por parte de las plantas. Desarrollarás un programa que recibe un valor de pH e informa al\n",
        "agricultor si el suelo es ácido, neutro o alcalino, ofreciendo una recomendación general."
      ],
      "metadata": {
        "id": "z-LSdA3rs2XR"
      }
    },
    {
      "cell_type": "code",
      "source": [
        "# Explicar al usuario que el programa clasifica el pH del suelo.\n",
        "print(\"Este programa clasifica el pH del suelo.\")\n",
        "\n",
        "# Pedir al usuario que ingrese el valor de pH medido (puede ser decimal).\n",
        "ph = float(input(\"ingrese el valor del ph: \"))\n",
        "\n",
        "# Utilizar una estructura 'if' para la primera condición: si el pH es menor que 7.\n",
        "if ph < 7:\n",
        "    print(\"El suelo es ácido.\")\n",
        "    # Dentro del 'if', mostrar un mensaje indicando que el suelo es \"Ácido\" y recomendar el uso de cal agrícola.\n",
        "    print(\"recomendamos el uso de cal relayo.\")\n",
        "elif ph == 7:\n",
        "    print(\"El suelo es neutro.\")\n",
        "elif ph > 7:\n",
        "    print(\"El suelo es alcalino.\")\n",
        "    print(\"recomendamos el uso de fertilizantes el uso de sulfato.\")\n",
        "\n",
        "\n"
      ],
      "metadata": {
        "colab": {
          "base_uri": "https://localhost:8080/"
        },
        "id": "ohKaFtnrtB-g",
        "outputId": "50074b3d-87a1-4812-d78c-6ec86888b8e5"
      },
      "execution_count": 3,
      "outputs": [
        {
          "output_type": "stream",
          "name": "stdout",
          "text": [
            "Este programa clasifica el pH del suelo.\n",
            "ingrese el valor del ph: 7\n",
            "El suelo es neutro.\n"
          ]
        }
      ]
    },
    {
      "cell_type": "markdown",
      "metadata": {
        "id": "ba2322f4"
      },
      "source": [
        "Este código clasifica el pH del suelo y ofrece una recomendación.\n",
        "\n",
        "1.  `print(\"Este programa clasifica el pH del suelo.\")`: Muestra un mensaje inicial al usuario explicando el propósito del programa.\n",
        "2.  `ph = float(input(\"ingrese el valor del ph: \"))`: Pide al usuario que ingrese el valor del pH y lo convierte a un número decimal (float), almacenándolo en la variable `ph`.\n",
        "3.  `if ph < 7:`: Inicia una estructura condicional. Si el valor de `ph` es menor que 7, se ejecuta el bloque de código dentro de este `if`.\n",
        "4.  `print(\"El suelo es ácido.\")`: Si la condición anterior es verdadera, muestra que el suelo es ácido.\n",
        "5.  `print(\"recomendamos el uso de cal relayo.\")`: Dentro del `if`, recomienda el uso de cal relayo para suelos ácidos.\n",
        "6.  `elif ph == 7:`: Si la primera condición (`if ph < 7`) no es verdadera, verifica si el valor de `ph` es exactamente igual a 7. Si es así, ejecuta el bloque de código dentro de este `elif`.\n",
        "7.  `print(\"El suelo es neutro.\")`: Si la condición `elif ph == 7` es verdadera, muestra que el suelo es neutro.\n",
        "8.  `elif ph > 7:`: Si ninguna de las condiciones anteriores (`if ph < 7` y `elif ph == 7`) es verdadera, verifica si el valor de `ph` es mayor que 7. Si es así, ejecuta el bloque de código dentro de este `elif`.\n",
        "9.  `print(\"El suelo es alcalino.\")`: Si la condición `elif ph > 7` es verdadera, muestra que el suelo es alcalino.\n",
        "10. `print(\"recomendamos el uso de fertilizantes el uso de sulfato.\")`: Dentro del último `elif`, recomienda el uso de fertilizantes con sulfato para suelos alcalinos."
      ]
    },
    {
      "cell_type": "markdown",
      "source": [
        "# Situación 2: Simulación de Crecimiento de un Cultivo\n",
        "\n",
        " Un agrónomo quiere simular el crecimiento\n",
        "en altura de una planta durante 5 semanas. La planta crece a una tasa diferente cada semana. El programa\n",
        "debe solicitar la tasa de crecimiento de cada semana y mostrar la altura total al final."
      ],
      "metadata": {
        "id": "oLX2k-7IyRdW"
      }
    },
    {
      "cell_type": "code",
      "source": [
        "# Inicializar una variable para la altura total de la planta en cero.\n",
        "crecimiento_semanal = []\n",
        "altura = 0\n",
        "\n",
        "# Mostrar un mensaje que indique que se simulará el crecimiento durante 5 semanas.\n",
        "print(\"Se simulará el crecimiento durante 5 semanas.\")\n",
        "\n",
        "# Crear un bucle 'for' que se repita 5 veces (una por cada semana).\n",
        "for semana in range(1, 6):\n",
        "    \"\"\"\n",
        "    Dentro del bucle, pedir al usuario el crecimiento de la planta para la semana\n",
        "    actual (ej. \"Ingrese el crecimiento en cm para la semana 1:\").\n",
        "    \"\"\"\n",
        "    crecimiento = float(input(f\"Ingrese el crecimiento en cm para la semana {semana}: \"))\n",
        "\n",
        "    crecimiento_semanal.append(crecimiento)\n",
        "\n",
        "    # actualizar la altura total sumando el crecimiento de la semana actual.\n",
        "    altura += crecimiento\n",
        "\n",
        "# Después de que el bucle termine, mostrar la altura total acumulada de la planta.\n",
        "print(\"Altura total de la planta es:\", altura, \"cm\")\n",
        "\n",
        "print(\"crecimiento semanal:\", crecimiento_semanal)\n"
      ],
      "metadata": {
        "colab": {
          "base_uri": "https://localhost:8080/"
        },
        "id": "rUJsstQSyZL3",
        "outputId": "725409ce-a474-44a4-e0ac-67d09455bb6f"
      },
      "execution_count": 14,
      "outputs": [
        {
          "output_type": "stream",
          "name": "stdout",
          "text": [
            "Se simulará el crecimiento durante 5 semanas.\n",
            "Ingrese el crecimiento en cm para la semana 2: 1\n",
            "Ingrese el crecimiento en cm para la semana 3: 2\n",
            "Ingrese el crecimiento en cm para la semana 4: 3\n",
            "Ingrese el crecimiento en cm para la semana 5: 4\n",
            "Ingrese el crecimiento en cm para la semana 6: 5\n",
            "Altura total de la planta es: 15.0 cm\n",
            "crecimiento semanal: [1.0, 2.0, 3.0, 4.0, 5.0]\n"
          ]
        }
      ]
    },
    {
      "cell_type": "code",
      "source": [],
      "metadata": {
        "id": "ajazG-4_06LN"
      },
      "execution_count": null,
      "outputs": []
    }
  ]
}