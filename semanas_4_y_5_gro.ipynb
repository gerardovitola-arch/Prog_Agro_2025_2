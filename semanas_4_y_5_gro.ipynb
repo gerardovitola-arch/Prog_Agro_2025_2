{
  "nbformat": 4,
  "nbformat_minor": 0,
  "metadata": {
    "colab": {
      "provenance": [],
      "authorship_tag": "ABX9TyN42A7kxiBwdzncszScDpk+",
      "include_colab_link": true
    },
    "kernelspec": {
      "name": "python3",
      "display_name": "Python 3"
    },
    "language_info": {
      "name": "python"
    }
  },
  "cells": [
    {
      "cell_type": "markdown",
      "metadata": {
        "id": "view-in-github",
        "colab_type": "text"
      },
      "source": [
        "<a href=\"https://colab.research.google.com/github/gerardovitola-arch/Prog_Agro_2025_2/blob/main/semanas_4_y_5_gro.ipynb\" target=\"_parent\"><img src=\"https://colab.research.google.com/assets/colab-badge.svg\" alt=\"Open In Colab\"/></a>"
      ]
    },
    {
      "cell_type": "markdown",
      "metadata": {
        "id": "7c0967f9"
      },
      "source": [
        "## Listas, Tuplas y Diccionarios en Python\n",
        "\n",
        "En Python, las **listas**, **tuplas** y **diccionarios** son estructuras de datos fundamentales utilizadas para almacenar colecciones de elementos. Cada una tiene sus propias características, similitudes y diferencias:\n",
        "\n",
        "### Listas (`list`)\n",
        "\n",
        "*   **Definición:** Las listas son colecciones ordenadas y mutables de elementos. Pueden contener elementos de diferentes tipos de datos.\n",
        "*   **Sintaxis:** Se definen utilizando corchetes `[]`.\n",
        "*   **Ejemplo:** `mi_lista = [1, \"manzana\", True, 3.14]`\n",
        "*   **Mutabilidad:** Son mutables, lo que significa que puedes añadir, eliminar o modificar elementos después de su creación.\n",
        "*   **Uso:** Son ideales para colecciones de elementos que cambian con frecuencia.\n",
        "\n",
        "### Tuplas (`tuple`)\n",
        "\n",
        "*   **Definición:** Las tuplas son colecciones ordenadas e inmutables de elementos. Al igual que las listas, pueden contener elementos de diferentes tipos de datos.\n",
        "*   **Sintaxis:** Se definen utilizando paréntesis `()`.\n",
        "*   **Ejemplo:** `mi_tupla = (1, \"banana\", False, 2.71)`\n",
        "*   **Mutabilidad:** Son inmutables, lo que significa que no puedes cambiar sus elementos una vez creadas.\n",
        "*   **Uso:** Son útiles para colecciones de elementos que no deben cambiar, como coordenadas o registros fijos.\n",
        "\n",
        "### Diccionarios (`dict`)\n",
        "\n",
        "*   **Definición:** Los diccionarios son colecciones no ordenadas de pares clave-valor. Cada clave debe ser única e inmutable, y los valores pueden ser de cualquier tipo de dato.\n",
        "*   **Sintaxis:** Se definen utilizando llaves `{}` con pares clave:valor.\n",
        "*   **Ejemplo:** `mi_diccionario = {\"nombre\": \"Juan\", \"edad\": 30, \"ciudad\": \"Madrid\"}`\n",
        "*   **Mutabilidad:** Son mutables en cuanto a añadir, eliminar o modificar pares clave-valor. Sin embargo, las claves en sí mismas deben ser inmutables.\n",
        "*   **Uso:** Son ideales para representar datos donde cada elemento tiene una etiqueta o nombre asociado (la clave).\n",
        "\n",
        "### Similitudes\n",
        "\n",
        "*   **Almacenan colecciones:** Las tres estructuras se utilizan para almacenar múltiples elementos en una sola variable.\n",
        "*   **Acceso a elementos (Listas y Tuplas):** Los elementos en listas y tuplas se pueden acceder por su índice (posición).\n",
        "*   **Pueden contener tipos de datos mixtos:** Las tres estructuras pueden almacenar elementos de diferentes tipos de datos.\n",
        "\n",
        "### Diferencias\n",
        "\n",
        "*   **Mutabilidad:** Las listas y diccionarios son mutables, mientras que las tuplas son inmutables. Esta es la diferencia más significativa y determina cuándo usar una u otra.\n",
        "*   **Orden (Listas y Tuplas vs. Diccionarios):** Las listas y tuplas mantienen un orden de inserción (a partir de Python 3.7 para diccionarios, aunque tradicionalmente se consideraban no ordenados). Los diccionarios se basan en claves para acceder a los elementos, no en la posición.\n",
        "*   **Acceso a elementos:** Las listas y tuplas se acceden por índice, mientras que los diccionarios se acceden por clave.\n",
        "*   **Sintaxis:** Cada una utiliza una sintaxis de definición diferente (`[]`, `()`, `{}`).\n",
        "\n",
        "En resumen, la elección entre lista, tupla o diccionario depende de si necesitas una colección mutable (lista o diccionario) o inmutable (tupla), si el orden de los elementos es importante (lista o tupla), y si necesitas acceder a los elementos por un nombre o etiqueta en lugar de por su posición (diccionario)."
      ]
    },
    {
      "cell_type": "markdown",
      "metadata": {
        "id": "9df7129e"
      },
      "source": [
        "## Usos y Funciones de Listas, Tuplas y Diccionarios en Python\n",
        "\n",
        "Aquí se detallan los usos y funciones comunes de las listas, tuplas y diccionarios en Python:\n",
        "\n",
        "### Listas (`list`)\n",
        "\n",
        "**Usos:**\n",
        "\n",
        "*   Almacenar colecciones de elementos que pueden cambiar con frecuencia.\n",
        "*   Implementar pilas (usando `append()` y `pop()`).\n",
        "*   Implementar colas (usando `append()` y `pop(0)` o `collections.deque`).\n",
        "*   Representar secuencias ordenadas de datos.\n",
        "\n",
        "**Funciones y Métodos Comunes:**\n",
        "\n",
        "*   `append(elemento)`: Añade un elemento al final de la lista.\n",
        "*   `insert(indice, elemento)`: Inserta un elemento en un índice específico.\n",
        "*   `remove(elemento)`: Elimina la primera aparición de un elemento.\n",
        "*   `pop(indice)`: Elimina y devuelve el elemento en un índice (o el último si no se especifica).\n",
        "*   `len(lista)`: Devuelve la longitud de la lista.\n",
        "*   `sort()`: Ordena la lista.\n",
        "*   `reverse()`: Invierte el orden de la lista.\n",
        "*   `index(elemento)`: Devuelve el índice de la primera aparición de un elemento.\n",
        "*   `count(elemento)`: Devuelve el número de veces que aparece un elemento.\n",
        "\n",
        "### Tuplas (`tuple`)\n",
        "\n",
        "**Usos:**\n",
        "\n",
        "*   Representar colecciones de elementos que no deben cambiar (inmutables).\n",
        "*   Utilizar como claves en diccionarios (porque son inmutables).\n",
        "*   Devolver múltiples valores desde una función.\n",
        "*   Almacenar datos heterogéneos donde la posición tiene significado (ej: coordenadas).\n",
        "\n",
        "**Funciones y Métodos Comunes (limitados por su inmutabilidad):**\n",
        "\n",
        "*   `len(tupla)`: Devuelve la longitud de la tupla.\n",
        "*   `count(elemento)`: Devuelve el número de veces que aparece un elemento.\n",
        "*   `index(elemento)`: Devuelve el índice de la primera aparición de un elemento.\n",
        "\n",
        "### Diccionarios (`dict`)\n",
        "\n",
        "**Usos:**\n",
        "\n",
        "*   Representar datos donde cada elemento tiene una clave única (como un mapa o tabla hash).\n",
        "*   Almacenar configuraciones o metadatos.\n",
        "*   Contar la frecuencia de elementos (usando elementos como claves y sus conteos como valores).\n",
        "*   Implementar cachés simples.\n",
        "\n",
        "**Funciones y Métodos Comunes:**\n",
        "\n",
        "*   `diccionario[clave]`: Accede al valor asociado con una clave.\n",
        "*   `diccionario[clave] = valor`: Añade o modifica un par clave-valor.\n",
        "*   `del diccionario[clave]`: Elimina un par clave-valor.\n",
        "*   `keys()`: Devuelve una vista de las claves del diccionario.\n",
        "*   `values()`: Devuelve una vista de los valores del diccionario.\n",
        "*   `items()`: Devuelve una vista de los pares clave-valor del diccionario.\n",
        "*   `get(clave, valor_por_defecto)`: Devuelve el valor de la clave o un valor por defecto si la clave no existe.\n",
        "*   `pop(clave, valor_por_defecto)`: Elimina y devuelve el valor de la clave o un valor por defecto.\n",
        "*   `len(diccionario)`: Devuelve el número de pares clave-valor.\n",
        "\n",
        "En resumen, la elección de la estructura de datos adecuada depende de los requisitos específicos de tu programa, considerando si los datos necesitan ser modificados, si el orden es relevante y cómo necesitas acceder a los elementos."
      ]
    },
    {
      "cell_type": "markdown",
      "source": [
        "#Situación de Interés en Ingeniería Agrícola :\n",
        "\n",
        " Un agrónomo consultor necesita una herramienta rápida para aconsejar a los agricultores sobre qué cultivos sembrar. Se requiere un programa que almacene información de varios cultivos (nombre, mes ideal de siembra, necesidad de agua) y que, al ingresar el nombre de un mes, recomiende qué cultivos son adecuados para sembrar en ese período\n",
        "\n",
        " Caso de Ingeniería Agrícola: Planificador de Cultivos (Listas y Funciones)\n",
        "• Paso a Paso del Código:\n",
        "1. Crear una lista donde cada elemento sea un diccionario. Cada diccionario representará un\n",
        "cultivo y tendrá claves como nombre, mes_siembra y riego.\n",
        "2. Crear una función llamada recomendar_cultivos. Esta función recibirá dos parámetros: la\n",
        "lista completa de cultivos y el mes actual.\n",
        "3. Dentro de la función, usar un bucle for para recorrer la lista de cultivos.\n",
        "4. En cada iteración, usar un if para comprobar si el mes_siembra del cultivo coincide con el mes\n",
        "proporcionado.\n",
        "5. Si coinciden, añadir el nombre del cultivo a una nueva lista de recomendados.\n",
        "6. Al final, la función debe devolver la lista de cultivos recomendados.\n",
        "7. En el programa principal, pedir al usuario el mes y llamar a la función para obtener e imprimir\n",
        "las recomendaciones."
      ],
      "metadata": {
        "id": "NP2ps7rs19ir"
      }
    },
    {
      "cell_type": "code",
      "source": [],
      "metadata": {
        "id": "RR_K9YLS2VD7"
      },
      "execution_count": null,
      "outputs": []
    },
    {
      "cell_type": "code",
      "metadata": {
        "colab": {
          "base_uri": "https://localhost:8080/"
        },
        "id": "4f13f698",
        "outputId": "6e683391-fb07-427f-8982-d57aeaef4f22"
      },
      "source": [
        "# 1. Crear una lista donde cada elemento sea un diccionario.\n",
        "cultivos = [\n",
        "    {\"nombre\": \"Maíz\", \"mes_siembra\": \"Abril\", \"riego\": \"Moderado\"},\n",
        "    {\"nombre\": \"Trigo\", \"mes_siembra\": \"Octubre\", \"riego\": \"Bajo\"},\n",
        "    {\"nombre\": \"Girasol\", \"mes_siembra\": \"Mayo\", \"riego\": \"Moderado\"},\n",
        "    {\"nombre\": \"Arroz\", \"mes_siembra\": \"Junio\", \"riego\": \"Alto\"},\n",
        "    {\"nombre\": \"Soja\", \"mes_siembra\": \"Noviembre\", \"riego\": \"Moderado\"},\n",
        "    {\"nombre\": \"Patata\", \"mes_siembra\": \"Marzo\", \"riego\": \"Alto\"},\n",
        "]\n",
        "\n",
        "# 2. Crear una función llamada recomendar_cultivos.\n",
        "def recomendar_cultivos(lista_cultivos, mes_actual):\n",
        "    # 5. Si coinciden, añadir el nombre del cultivo a una nueva lista de recomendados.\n",
        "    cultivos_recomendados = []\n",
        "    # 3. Dentro de la función, usar un bucle for para recorrer la lista de cultivos.\n",
        "    for cultivo in lista_cultivos:\n",
        "        # 4. En cada iteración, usar un if para comprobar si el mes_siembra del cultivo coincide con el mes proporcionado.\n",
        "        if cultivo[\"mes_siembra\"].lower() == mes_actual.lower():\n",
        "            cultivos_recomendados.append(cultivo[\"nombre\"])\n",
        "    # 6. Al final, la función debe devolver la lista de cultivos recomendados.\n",
        "    return cultivos_recomendados\n",
        "\n",
        "# 7. En el programa principal, pedir al usuario el mes y llamar a la función para obtener e imprimir las recomendaciones.\n",
        "mes_ingresado = input(\"Introduce el mes actual (ej. Abril): \")\n",
        "\n",
        "recomendaciones = recomendar_cultivos(cultivos, mes_ingresado)\n",
        "\n",
        "if recomendaciones:\n",
        "    print(f\"\\nCultivos recomendados para sembrar en {mes_ingresado}:\")\n",
        "    for cultivo in recomendaciones:\n",
        "        print(f\"- {cultivo}\")\n",
        "else:\n",
        "    print(f\"\\nNo hay cultivos recomendados para sembrar en {mes_ingresado} en nuestra base de datos.\")"
      ],
      "execution_count": 5,
      "outputs": [
        {
          "output_type": "stream",
          "name": "stdout",
          "text": [
            "Introduce el mes actual (ej. Abril): maiz\n",
            "\n",
            "No hay cultivos recomendados para sembrar en maiz en nuestra base de datos.\n"
          ]
        }
      ]
    },
    {
      "cell_type": "markdown",
      "source": [
        "# Situación 2: Función para Validar Parámetros de Calida\n",
        " Una planta recibe lotes de fruta y debe\n",
        "validar si cumplen con los parámetros de pH y grados Brix para ser aceptados. Crearás una función que centralice esta lógica de  validación.\n",
        "\n",
        "\n",
        "• Paso a Paso del Código (Guía para el Notebook)\n",
        "1. # Definir una función 'validar_lote' que tome dos parámetros: 'ph' y 'brix'.\n",
        "2. # Dentro de la función, usar una estructura 'if' para verificar si el pH está\n",
        "entre 3.5 y 4.5 Y si los grados Brix son mayores a 12.\n",
        "3. # Si ambas condiciones se cumplen, la función debe devolver el valor booleano\n",
        "True.\n",
        "4. # De lo contrario (else), la función debe devolver el valor booleano False.\n",
        "5. # En el programa principal, pedir al usuario el pH y los grados Brix del lote\n",
        "actual.\n",
        "6. # Llamar a la función 'validar_lote' con los datos ingresados y guardar el\n",
        "resultado (True/False) en una variable.\n",
        "7. # Usar un 'if' en el programa principal para comprobar el valor de esa variable.\n",
        "8. # Si la variable es True, imprimir \"Lote APROBADO\". Si es False, imprimir \"Lote\n",
        "RECHAZADO\".\n",
        "• Prompts Sugeridos para IA"
      ],
      "metadata": {
        "id": "5iUF9W536X7G"
      }
    },
    {
      "cell_type": "code",
      "source": [],
      "metadata": {
        "id": "1S66vP_36ldV"
      },
      "execution_count": null,
      "outputs": []
    },
    {
      "cell_type": "code",
      "metadata": {
        "colab": {
          "base_uri": "https://localhost:8080/"
        },
        "id": "ddb2b8cf",
        "outputId": "079f3d93-f850-4e8c-e626-f2fc5e69288d"
      },
      "source": [
        "# 1. Definir una función 'validar_lote' que tome dos parámetros: 'ph' y 'brix'.\n",
        "def validar_lote(ph, brix):\n",
        "    # 2. Dentro de la función, usar una estructura 'if' para verificar si el pH está\n",
        "    # entre 3.5 y 4.5 Y si los grados Brix son mayores a 12.\n",
        "    if 3.5 <= ph <= 4.5 and brix > 12:\n",
        "        # 3. Si ambas condiciones se cumplen, la función debe devolver el valor booleano True.\n",
        "        return True\n",
        "    else:\n",
        "        # 4. De lo contrario (else), la función debe devolver el valor booleano False.\n",
        "        return False\n",
        "\n",
        "# 5. En el programa principal, pedir al usuario el pH y los grados Brix del lote actual.\n",
        "try:\n",
        "    ph_ingresado = float(input(\"Introduce el valor de pH del lote: \"))\n",
        "    brix_ingresados = float(input(\"Introduce los grados Brix del lote: \"))\n",
        "\n",
        "    # 6. Llamar a la función 'validar_lote' con los datos ingresados y guardar el resultado (True/False) en una variable.\n",
        "    lote_aprobado = validar_lote(ph_ingresado, brix_ingresados)\n",
        "\n",
        "    # 7. Usar un 'if' en el programa principal para comprobar el valor de esa variable.\n",
        "    if lote_aprobado:\n",
        "        # 8. Si la variable es True, imprimir \"Lote APROBADO\". Si es False, imprimir \"Lote RECHAZADO\".\n",
        "        print(\"\\nLote APROBADO\")\n",
        "    else:\n",
        "        print(\"\\nLote RECHAZADO\")\n",
        "\n",
        "except ValueError:\n",
        "    print(\"\\nEntrada inválida. Por favor, asegúrate de ingresar números para pH y Brix.\")"
      ],
      "execution_count": 9,
      "outputs": [
        {
          "output_type": "stream",
          "name": "stdout",
          "text": [
            "Introduce el valor de pH del lote: 4\n",
            "Introduce los grados Brix del lote: 16\n",
            "\n",
            "Lote APROBADO\n"
          ]
        }
      ]
    },
    {
      "cell_type": "markdown",
      "source": [
        "# Situación 1: Ficha Técnica de un Producto\n",
        "\n",
        "\n",
        "Se necesita un programa para almacenar y mostrar la información clave de un producto alimenticio, como su nombre, lote, fecha de vencimiento y porcentaje de humedad. Un diccionario es perfecto para esto, ya que cada dato tiene una etiqueta clara.\n",
        "• Paso a Paso del Código (Guía para el Notebook)\n",
        "\n",
        "1. # Crear un diccionario vacío llamado 'ficha_producto'.\n",
        "2. # Pedir al usuario el nombre del producto y guardarlo en el diccionario con la clave 'nombre'.\n",
        "3. # Pedir el número de lote y guardarlo con la clave 'lote'.\n",
        "4. # Pedir la fecha de vencimiento y guardarla con la clave 'vencimiento'.\n",
        "5. # Pedir el porcentaje de humedad y guardarlo con la clave 'humedad'.\n",
        "6. # Mostrar un encabezado que diga \"--- Ficha Técnica del Producto ---\".\n",
        "7. # Imprimir cada uno de los valores del diccionario accediendo a ellos a través de sus claves (ej. ficha_producto['nombre']).\n"
      ],
      "metadata": {
        "id": "Vn_e4Mfq9kAa"
      }
    },
    {
      "cell_type": "code",
      "source": [
        "iz"
      ],
      "metadata": {
        "id": "nlclj5GZ-UEA"
      },
      "execution_count": null,
      "outputs": []
    },
    {
      "cell_type": "code",
      "source": [],
      "metadata": {
        "id": "YtOOKi3K9jqa"
      },
      "execution_count": null,
      "outputs": []
    },
    {
      "cell_type": "code",
      "metadata": {
        "colab": {
          "base_uri": "https://localhost:8080/"
        },
        "id": "8509964a",
        "outputId": "d7b2e2c8-c42a-4811-b16b-76abfde245a2"
      },
      "source": [
        "# 1. Crear un diccionario vacío llamado 'ficha_producto'.\n",
        "# Se moverá la creación del diccionario dentro del bucle para cada producto\n",
        "\n",
        "print(\"Introduce los datos de los productos. Escribe 'fin' en el nombre del producto para terminar.\")\n",
        "\n",
        "while True:\n",
        "    ficha_producto = {} # Crear un nuevo diccionario para cada producto\n",
        "\n",
        "    # 2. Pedir al usuario el nombre del producto y guardarlo en el diccionario con la clave 'nombre'.\n",
        "    nombre_producto = input(\"\\nIntroduce el nombre del producto (o escribe 'fin' para terminar): \")\n",
        "\n",
        "    # Condición para finalizar el bucle\n",
        "    if nombre_producto.lower() == 'fin':\n",
        "        break\n",
        "\n",
        "    ficha_producto['nombre'] = nombre_producto\n",
        "\n",
        "    # 3. Pedir el número de lote y guardarlo con la clave 'lote'.\n",
        "    numero_lote = input(\"Introduce el número de lote: \")\n",
        "    ficha_producto['lote'] = numero_lote\n",
        "\n",
        "    # 4. Pedir la fecha de vencimiento y guardarla con la clave 'vencimiento'.\n",
        "    fecha_vencimiento = input(\"Introduce la fecha de vencimiento (ej. YYYY-MM-DD): \")\n",
        "    ficha_producto['vencimiento'] = fecha_vencimiento\n",
        "\n",
        "    # 5. Pedir el porcentaje de humedad y guardarlo con la clave 'humedad'.\n",
        "    porcentaje_humedad = input(\"Introduce el porcentaje de humedad: \")\n",
        "    ficha_producto['humedad'] = porcentaje_humedad\n",
        "\n",
        "    # 6. Mostrar un encabezado que diga \"--- Ficha Técnica del Producto ---\".\n",
        "    print(\"\\n--- Ficha Técnica del Producto ---\")\n",
        "\n",
        "    # 7. Imprimir cada uno de los valores del diccionario accediendo a ellos a través de sus claves.\n",
        "    print(f\"Nombre: {ficha_producto['nombre']}\")\n",
        "    print(f\"Lote: {ficha_producto['lote']}\")\n",
        "    print(f\"Fecha de Vencimiento: {ficha_producto['vencimiento']}\")\n",
        "    print(f\"Porcentaje de Humedad: {ficha_producto['humedad']}\")\n",
        "\n",
        "print(\"\\nFin de la entrada de datos de productos.\")"
      ],
      "execution_count": 19,
      "outputs": [
        {
          "output_type": "stream",
          "name": "stdout",
          "text": [
            "Introduce los datos de los productos. Escribe 'fin' en el nombre del producto para terminar.\n",
            "\n",
            "Introduce el nombre del producto (o escribe 'fin' para terminar): maiz\n",
            "Introduce el número de lote: 20\n",
            "Introduce la fecha de vencimiento (ej. YYYY-MM-DD): 25-56-3484\n",
            "Introduce el porcentaje de humedad: 25\n",
            "\n",
            "--- Ficha Técnica del Producto ---\n",
            "Nombre: maiz\n",
            "Lote: 20\n",
            "Fecha de Vencimiento: 25-56-3484\n",
            "Porcentaje de Humedad: 25\n",
            "\n",
            "Introduce el nombre del producto (o escribe 'fin' para terminar): mango\n",
            "Introduce el número de lote: 159\n",
            "Introduce la fecha de vencimiento (ej. YYYY-MM-DD): 12-52-5421\n",
            "Introduce el porcentaje de humedad: 47\n",
            "\n",
            "--- Ficha Técnica del Producto ---\n",
            "Nombre: mango\n",
            "Lote: 159\n",
            "Fecha de Vencimiento: 12-52-5421\n",
            "Porcentaje de Humedad: 47\n",
            "\n",
            "Introduce el nombre del producto (o escribe 'fin' para terminar): banano\n",
            "Introduce el número de lote: 586\n",
            "Introduce la fecha de vencimiento (ej. YYYY-MM-DD): 12-0902026\n",
            "Introduce el porcentaje de humedad: 25\n",
            "\n",
            "--- Ficha Técnica del Producto ---\n",
            "Nombre: banano\n",
            "Lote: 586\n",
            "Fecha de Vencimiento: 12-0902026\n",
            "Porcentaje de Humedad: 25\n",
            "\n",
            "Introduce el nombre del producto (o escribe 'fin' para terminar): fi\n",
            "Introduce el número de lote: 464\n",
            "Introduce la fecha de vencimiento (ej. YYYY-MM-DD): 6456\n",
            "Introduce el porcentaje de humedad: 5464\n",
            "\n",
            "--- Ficha Técnica del Producto ---\n",
            "Nombre: fi\n",
            "Lote: 464\n",
            "Fecha de Vencimiento: 6456\n",
            "Porcentaje de Humedad: 5464\n",
            "\n",
            "Introduce el nombre del producto (o escribe 'fin' para terminar): fin\n",
            "\n",
            "Fin de la entrada de datos de productos.\n"
          ]
        }
      ]
    },
    {
      "cell_type": "markdown",
      "metadata": {
        "id": "f3be115c"
      },
      "source": [
        "# Task\n",
        "Modify the existing Python code for the \"Situación 1: Ficha Técnica de un Producto\" to store the collected product data in an Excel file. The code should continue to collect data indefinitely until the user chooses to stop, and then save all the collected data into a single Excel file."
      ]
    },
    {
      "cell_type": "markdown",
      "metadata": {
        "id": "45f32204"
      },
      "source": [
        "## Instalar pandas\n",
        "\n",
        "### Subtask:\n",
        "Añadir una celda para instalar la biblioteca pandas.\n"
      ]
    },
    {
      "cell_type": "markdown",
      "metadata": {
        "id": "fc565ec7"
      },
      "source": [
        "**Reasoning**:\n",
        "The subtask requires installing the pandas library using pip in a new code cell.\n",
        "\n"
      ]
    },
    {
      "cell_type": "code",
      "metadata": {
        "colab": {
          "base_uri": "https://localhost:8080/"
        },
        "id": "26432ec9",
        "outputId": "f32b6afa-978a-4f77-acd0-f96723c4731d"
      },
      "source": [
        "%pip install pandas"
      ],
      "execution_count": 20,
      "outputs": [
        {
          "output_type": "stream",
          "name": "stdout",
          "text": [
            "Requirement already satisfied: pandas in /usr/local/lib/python3.12/dist-packages (2.2.2)\n",
            "Requirement already satisfied: numpy>=1.26.0 in /usr/local/lib/python3.12/dist-packages (from pandas) (2.0.2)\n",
            "Requirement already satisfied: python-dateutil>=2.8.2 in /usr/local/lib/python3.12/dist-packages (from pandas) (2.9.0.post0)\n",
            "Requirement already satisfied: pytz>=2020.1 in /usr/local/lib/python3.12/dist-packages (from pandas) (2025.2)\n",
            "Requirement already satisfied: tzdata>=2022.7 in /usr/local/lib/python3.12/dist-packages (from pandas) (2025.2)\n",
            "Requirement already satisfied: six>=1.5 in /usr/local/lib/python3.12/dist-packages (from python-dateutil>=2.8.2->pandas) (1.17.0)\n"
          ]
        }
      ]
    },
    {
      "cell_type": "markdown",
      "metadata": {
        "id": "cdc0e9dc"
      },
      "source": [
        "## Modificar el código para almacenar datos\n",
        "\n",
        "### Subtask:\n",
        "Actualizar el código existente para guardar cada ficha de producto en una lista.\n"
      ]
    },
    {
      "cell_type": "markdown",
      "metadata": {
        "id": "55dd04e9"
      },
      "source": [
        "**Reasoning**:\n",
        "Initialize an empty list to store product data and then modify the existing loop to append each product's dictionary to this list.\n",
        "\n"
      ]
    },
    {
      "cell_type": "code",
      "metadata": {
        "colab": {
          "base_uri": "https://localhost:8080/"
        },
        "id": "f464a5b3",
        "outputId": "ec47b266-ce4f-4e7d-edf6-b126736cf7bc"
      },
      "source": [
        "# Initialize an empty list to store product data\n",
        "datos_productos = []\n",
        "\n",
        "print(\"Introduce los datos de los productos. Escribe 'fin' en el nombre del producto para terminar.\")\n",
        "\n",
        "while True:\n",
        "    ficha_producto = {} # Crear un nuevo diccionario para cada producto\n",
        "\n",
        "    # 2. Pedir al usuario el nombre del producto y guardarlo en el diccionario con la clave 'nombre'.\n",
        "    nombre_producto = input(\"\\nIntroduce el nombre del producto (o escribe 'fin' para terminar): \")\n",
        "\n",
        "    # Condición para finalizar el bucle\n",
        "    if nombre_producto.lower() == 'fin':\n",
        "        break\n",
        "\n",
        "    ficha_producto['nombre'] = nombre_producto\n",
        "\n",
        "    # 3. Pedir el número de lote y guardarlo con la clave 'lote'.\n",
        "    numero_lote = input(\"Introduce el número de lote: \")\n",
        "    ficha_producto['lote'] = numero_lote\n",
        "\n",
        "    # 4. Pedir la fecha de vencimiento y guardarla con la clave 'vencimiento'.\n",
        "    fecha_vencimiento = input(\"Introduce la fecha de vencimiento (ej. YYYY-MM-DD): \")\n",
        "    ficha_producto['vencimiento'] = fecha_vencimiento\n",
        "\n",
        "    # 5. Pedir el porcentaje de humedad y guardarlo con la clave 'humedad'.\n",
        "    porcentaje_humedad = input(\"Introduce el porcentaje de humedad: \")\n",
        "    ficha_producto['humedad'] = porcentaje_humedad\n",
        "\n",
        "    # Append the product dictionary to the list\n",
        "    datos_productos.append(ficha_producto)\n",
        "\n",
        "    # 6. Mostrar un encabezado que diga \"--- Ficha Técnica del Producto ---\".\n",
        "    print(\"\\n--- Ficha Técnica del Producto ---\")\n",
        "\n",
        "    # 7. Imprimir cada uno de los valores del diccionario accediendo a ellos a través de sus claves.\n",
        "    print(f\"Nombre: {ficha_producto['nombre']}\")\n",
        "    print(f\"Lote: {ficha_producto['lote']}\")\n",
        "    print(f\"Fecha de Vencimiento: {ficha_producto['vencimiento']}\")\n",
        "    print(f\"Porcentaje de Humedad: {ficha_producto['humedad']}\")\n",
        "\n",
        "print(\"\\nFin de la entrada de datos de productos.\")"
      ],
      "execution_count": null,
      "outputs": [
        {
          "output_type": "stream",
          "name": "stdout",
          "text": [
            "Introduce los datos de los productos. Escribe 'fin' en el nombre del producto para terminar.\n"
          ]
        }
      ]
    }
  ]
}