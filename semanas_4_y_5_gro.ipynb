{
  "nbformat": 4,
  "nbformat_minor": 0,
  "metadata": {
    "colab": {
      "provenance": [],
      "authorship_tag": "ABX9TyNu++R6IPpOjBT7EYm4oD3V",
      "include_colab_link": true
    },
    "kernelspec": {
      "name": "python3",
      "display_name": "Python 3"
    },
    "language_info": {
      "name": "python"
    }
  },
  "cells": [
    {
      "cell_type": "markdown",
      "metadata": {
        "id": "view-in-github",
        "colab_type": "text"
      },
      "source": [
        "<a href=\"https://colab.research.google.com/github/gerardovitola-arch/Prog_Agro_2025_2/blob/main/semanas_4_y_5_gro.ipynb\" target=\"_parent\"><img src=\"https://colab.research.google.com/assets/colab-badge.svg\" alt=\"Open In Colab\"/></a>"
      ]
    },
    {
      "cell_type": "markdown",
      "metadata": {
        "id": "7c0967f9"
      },
      "source": [
        "## Listas, Tuplas y Diccionarios en Python\n",
        "\n",
        "En Python, las **listas**, **tuplas** y **diccionarios** son estructuras de datos fundamentales utilizadas para almacenar colecciones de elementos. Cada una tiene sus propias características, similitudes y diferencias:\n",
        "\n",
        "### Listas (`list`)\n",
        "\n",
        "*   **Definición:** Las listas son colecciones ordenadas y mutables de elementos. Pueden contener elementos de diferentes tipos de datos.\n",
        "*   **Sintaxis:** Se definen utilizando corchetes `[]`.\n",
        "*   **Ejemplo:** `mi_lista = [1, \"manzana\", True, 3.14]`\n",
        "*   **Mutabilidad:** Son mutables, lo que significa que puedes añadir, eliminar o modificar elementos después de su creación.\n",
        "*   **Uso:** Son ideales para colecciones de elementos que cambian con frecuencia.\n",
        "\n",
        "### Tuplas (`tuple`)\n",
        "\n",
        "*   **Definición:** Las tuplas son colecciones ordenadas e inmutables de elementos. Al igual que las listas, pueden contener elementos de diferentes tipos de datos.\n",
        "*   **Sintaxis:** Se definen utilizando paréntesis `()`.\n",
        "*   **Ejemplo:** `mi_tupla = (1, \"banana\", False, 2.71)`\n",
        "*   **Mutabilidad:** Son inmutables, lo que significa que no puedes cambiar sus elementos una vez creadas.\n",
        "*   **Uso:** Son útiles para colecciones de elementos que no deben cambiar, como coordenadas o registros fijos.\n",
        "\n",
        "### Diccionarios (`dict`)\n",
        "\n",
        "*   **Definición:** Los diccionarios son colecciones no ordenadas de pares clave-valor. Cada clave debe ser única e inmutable, y los valores pueden ser de cualquier tipo de dato.\n",
        "*   **Sintaxis:** Se definen utilizando llaves `{}` con pares clave:valor.\n",
        "*   **Ejemplo:** `mi_diccionario = {\"nombre\": \"Juan\", \"edad\": 30, \"ciudad\": \"Madrid\"}`\n",
        "*   **Mutabilidad:** Son mutables en cuanto a añadir, eliminar o modificar pares clave-valor. Sin embargo, las claves en sí mismas deben ser inmutables.\n",
        "*   **Uso:** Son ideales para representar datos donde cada elemento tiene una etiqueta o nombre asociado (la clave).\n",
        "\n",
        "### Similitudes\n",
        "\n",
        "*   **Almacenan colecciones:** Las tres estructuras se utilizan para almacenar múltiples elementos en una sola variable.\n",
        "*   **Acceso a elementos (Listas y Tuplas):** Los elementos en listas y tuplas se pueden acceder por su índice (posición).\n",
        "*   **Pueden contener tipos de datos mixtos:** Las tres estructuras pueden almacenar elementos de diferentes tipos de datos.\n",
        "\n",
        "### Diferencias\n",
        "\n",
        "*   **Mutabilidad:** Las listas y diccionarios son mutables, mientras que las tuplas son inmutables. Esta es la diferencia más significativa y determina cuándo usar una u otra.\n",
        "*   **Orden (Listas y Tuplas vs. Diccionarios):** Las listas y tuplas mantienen un orden de inserción (a partir de Python 3.7 para diccionarios, aunque tradicionalmente se consideraban no ordenados). Los diccionarios se basan en claves para acceder a los elementos, no en la posición.\n",
        "*   **Acceso a elementos:** Las listas y tuplas se acceden por índice, mientras que los diccionarios se acceden por clave.\n",
        "*   **Sintaxis:** Cada una utiliza una sintaxis de definición diferente (`[]`, `()`, `{}`).\n",
        "\n",
        "En resumen, la elección entre lista, tupla o diccionario depende de si necesitas una colección mutable (lista o diccionario) o inmutable (tupla), si el orden de los elementos es importante (lista o tupla), y si necesitas acceder a los elementos por un nombre o etiqueta en lugar de por su posición (diccionario)."
      ]
    },
    {
      "cell_type": "markdown",
      "metadata": {
        "id": "9df7129e"
      },
      "source": [
        "## Usos y Funciones de Listas, Tuplas y Diccionarios en Python\n",
        "\n",
        "Aquí se detallan los usos y funciones comunes de las listas, tuplas y diccionarios en Python:\n",
        "\n",
        "### Listas (`list`)\n",
        "\n",
        "**Usos:**\n",
        "\n",
        "*   Almacenar colecciones de elementos que pueden cambiar con frecuencia.\n",
        "*   Implementar pilas (usando `append()` y `pop()`).\n",
        "*   Implementar colas (usando `append()` y `pop(0)` o `collections.deque`).\n",
        "*   Representar secuencias ordenadas de datos.\n",
        "\n",
        "**Funciones y Métodos Comunes:**\n",
        "\n",
        "*   `append(elemento)`: Añade un elemento al final de la lista.\n",
        "*   `insert(indice, elemento)`: Inserta un elemento en un índice específico.\n",
        "*   `remove(elemento)`: Elimina la primera aparición de un elemento.\n",
        "*   `pop(indice)`: Elimina y devuelve el elemento en un índice (o el último si no se especifica).\n",
        "*   `len(lista)`: Devuelve la longitud de la lista.\n",
        "*   `sort()`: Ordena la lista.\n",
        "*   `reverse()`: Invierte el orden de la lista.\n",
        "*   `index(elemento)`: Devuelve el índice de la primera aparición de un elemento.\n",
        "*   `count(elemento)`: Devuelve el número de veces que aparece un elemento.\n",
        "\n",
        "### Tuplas (`tuple`)\n",
        "\n",
        "**Usos:**\n",
        "\n",
        "*   Representar colecciones de elementos que no deben cambiar (inmutables).\n",
        "*   Utilizar como claves en diccionarios (porque son inmutables).\n",
        "*   Devolver múltiples valores desde una función.\n",
        "*   Almacenar datos heterogéneos donde la posición tiene significado (ej: coordenadas).\n",
        "\n",
        "**Funciones y Métodos Comunes (limitados por su inmutabilidad):**\n",
        "\n",
        "*   `len(tupla)`: Devuelve la longitud de la tupla.\n",
        "*   `count(elemento)`: Devuelve el número de veces que aparece un elemento.\n",
        "*   `index(elemento)`: Devuelve el índice de la primera aparición de un elemento.\n",
        "\n",
        "### Diccionarios (`dict`)\n",
        "\n",
        "**Usos:**\n",
        "\n",
        "*   Representar datos donde cada elemento tiene una clave única (como un mapa o tabla hash).\n",
        "*   Almacenar configuraciones o metadatos.\n",
        "*   Contar la frecuencia de elementos (usando elementos como claves y sus conteos como valores).\n",
        "*   Implementar cachés simples.\n",
        "\n",
        "**Funciones y Métodos Comunes:**\n",
        "\n",
        "*   `diccionario[clave]`: Accede al valor asociado con una clave.\n",
        "*   `diccionario[clave] = valor`: Añade o modifica un par clave-valor.\n",
        "*   `del diccionario[clave]`: Elimina un par clave-valor.\n",
        "*   `keys()`: Devuelve una vista de las claves del diccionario.\n",
        "*   `values()`: Devuelve una vista de los valores del diccionario.\n",
        "*   `items()`: Devuelve una vista de los pares clave-valor del diccionario.\n",
        "*   `get(clave, valor_por_defecto)`: Devuelve el valor de la clave o un valor por defecto si la clave no existe.\n",
        "*   `pop(clave, valor_por_defecto)`: Elimina y devuelve el valor de la clave o un valor por defecto.\n",
        "*   `len(diccionario)`: Devuelve el número de pares clave-valor.\n",
        "\n",
        "En resumen, la elección de la estructura de datos adecuada depende de los requisitos específicos de tu programa, considerando si los datos necesitan ser modificados, si el orden es relevante y cómo necesitas acceder a los elementos."
      ]
    }
  ]
}